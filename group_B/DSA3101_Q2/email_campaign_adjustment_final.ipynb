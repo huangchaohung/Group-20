{
 "cells": [
  {
   "cell_type": "code",
   "id": "initial_id",
   "metadata": {
    "collapsed": true,
    "ExecuteTime": {
     "end_time": "2024-11-09T16:23:15.465591Z",
     "start_time": "2024-11-09T16:23:15.460444Z"
    }
   },
   "source": [
    "import numpy as np\n",
    "from dynamic_email import dynamic_email_modifier\n",
    "import time"
   ],
   "outputs": [],
   "execution_count": 1
  },
  {
   "metadata": {},
   "cell_type": "markdown",
   "source": "# Dynamic Email Change Trial",
   "id": "d2d88cb2ce633845"
  },
  {
   "metadata": {},
   "cell_type": "markdown",
   "source": "## Set Up",
   "id": "e59d64d2523eac3c"
  },
  {
   "metadata": {
    "ExecuteTime": {
     "end_time": "2024-11-09T16:23:15.886373Z",
     "start_time": "2024-11-09T16:23:15.877202Z"
    }
   },
   "cell_type": "code",
   "source": [
    "import json\n",
    "import pandas as pd\n",
    "\n",
    "# Load sample data\n",
    "email_a_features = json.load(open(r\"sample_email_json\\email_a_initial_features.json\"))\n",
    "email_b_features = json.load(open(r\"sample_email_json\\email_b_initial_features.json\"))\n",
    "\n",
    "email_a = pd.read_csv(r\"sample_email_json\\email_a_initial.csv\")\n",
    "\n",
    "# Dump data into \"data folder\"\n",
    "email_a_feature_path = r\"..\\..\\data\\email_data\\email_a_features.json\"\n",
    "email_b_feature_path = r\"..\\..\\data\\email_data\\email_b_features.json\"\n",
    "email_a_path = r\"..\\..\\data\\email_data\\email_a.csv\"\n",
    "with open(email_a_feature_path, \"w\") as j:\n",
    "    json.dump(email_a_features, j)\n",
    "with open(email_b_feature_path, \"w\") as j:\n",
    "    json.dump(email_b_features, j)\n",
    "email_a.to_csv(email_a_path, index = False)"
   ],
   "id": "f6c018cd5f0d1ef6",
   "outputs": [],
   "execution_count": 2
  },
  {
   "metadata": {},
   "cell_type": "markdown",
   "source": "## Run",
   "id": "2f4dc5f51c4e3eac"
  },
  {
   "metadata": {
    "ExecuteTime": {
     "end_time": "2024-11-09T16:23:26.683663Z",
     "start_time": "2024-11-09T16:23:16.665657Z"
    }
   },
   "cell_type": "code",
   "source": [
    "np.random.seed(3101)\n",
    "num_rows = 10000\n",
    "while True:\n",
    "    num_rows = 1000\n",
    "    p = np.random.uniform(0.2, 0.50)\n",
    "    click_rate = np.random.choice([0,1], size=num_rows, p=[1 - p, p])\n",
    "    recent_email_result = pd.DataFrame({\n",
    "        \"customer_id\": list(range(1,num_rows+1)),\n",
    "        \"click_rate\": click_rate,\n",
    "    })\n",
    "    dynamic_email_modifier(recent_email_result)\n",
    "    if p >= 0.45:\n",
    "        print(\"\\n\")\n",
    "        print(\"** Achieved New Highest Click Rate **\")\n",
    "        print(\"Stopping all changes\")\n",
    "        break\n",
    "    print(\"\")\n",
    "    time.sleep(10)"
   ],
   "id": "159f747fad3cd0b9",
   "outputs": [
    {
     "name": "stdout",
     "output_type": "stream",
     "text": [
      "Email A Click Rate: 0.432\n",
      "Email B Click Rate: 0.252\n",
      "====== Changes Made ======\n",
      "Font Emphasis_None: 1 -> 0\n",
      "Font Emphasis_Bold: 0 -> 1\n",
      "Tone_Formal: 1 -> 0\n",
      "Tone_Conversational: 0 -> 1\n",
      "Subject Line Type_Promotional: 1 -> 0\n",
      "Subject Line Type_Personalized: 0 -> 1\n",
      "Target Audience_High Salary: 1 -> 0\n",
      "Target Audience_Mid Salary: 0 -> 1\n",
      "Font Size_Small: 1 -> 0\n",
      "Font Size_Large: 0 -> 1\n",
      "Testimonial Inclusion_None: 1 -> 0\n",
      "Testimonial Inclusion_Detailed: 0 -> 1\n",
      "Offer Type_Fixed Rate: 1 -> 0\n",
      "Offer Type_Variable Rate: 0 -> 1\n",
      "Personalization_None: 1 -> 0\n",
      "Personalization_Body and Subject: 0 -> 1\n",
      "Urgency Tone_None: 1 -> 0\n",
      "Urgency Tone_Strong Urgency: 0 -> 1\n",
      "Bullet Points_None: 1 -> 0\n",
      "Bullet Points_Few: 0 -> 1\n",
      "\n",
      "Email A Click Rate: 0.432\n",
      "Email B Click Rate: 0.469\n",
      "====== Changes Made ======\n",
      "Target Audience_High Salary: 0 -> 1\n",
      "Target Audience_Mid Salary: 1 -> 0\n",
      "Testimonial Inclusion_None: 0 -> 1\n",
      "Testimonial Inclusion_Detailed: 1 -> 0\n",
      "Offer Type_Fixed Rate: 0 -> 1\n",
      "Offer Type_Variable Rate: 1 -> 0\n",
      "\n",
      "\n",
      "** Achieved New Highest Click Rate **\n",
      "Stopping all changes\n"
     ]
    }
   ],
   "execution_count": 3
  },
  {
   "metadata": {},
   "cell_type": "code",
   "outputs": [],
   "execution_count": null,
   "source": "",
   "id": "3cc80628bf37d378"
  }
 ],
 "metadata": {
  "kernelspec": {
   "display_name": "Python 3",
   "language": "python",
   "name": "python3"
  },
  "language_info": {
   "codemirror_mode": {
    "name": "ipython",
    "version": 2
   },
   "file_extension": ".py",
   "mimetype": "text/x-python",
   "name": "python",
   "nbconvert_exporter": "python",
   "pygments_lexer": "ipython2",
   "version": "2.7.6"
  }
 },
 "nbformat": 4,
 "nbformat_minor": 5
}
