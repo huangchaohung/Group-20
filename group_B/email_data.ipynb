{
 "cells": [
  {
   "cell_type": "markdown",
   "metadata": {},
   "source": [
    "# Import libraries"
   ]
  },
  {
   "cell_type": "code",
   "execution_count": 1,
   "metadata": {},
   "outputs": [],
   "source": [
    "import pandas as pd\n",
    "import numpy as np\n",
    "import random"
   ]
  },
  {
   "cell_type": "markdown",
   "metadata": {},
   "source": [
    "# Email features"
   ]
  },
  {
   "cell_type": "code",
   "execution_count": 2,
   "metadata": {},
   "outputs": [],
   "source": [
    "email_data = {\n",
    "    'Number of Images': ['0', '1-2', '3-5', '6+'],\n",
    "    'Text Length': ['Short', 'Medium', 'Long', 'Very Long'],\n",
    "    'Font Emphasis': ['None', 'Bold', 'Italic', 'Both'],\n",
    "    'Wording Focus': ['High Returns', 'Stable Income', 'How Money is Used', 'Security'],\n",
    "    'CTA Position': ['Early', 'Middle', 'Late', 'Late'],\n",
    "    'CTA Size': ['Small', 'Medium', 'Large', 'Text Link'],\n",
    "    'Tone': ['Formal', 'Conversational', 'Urgent', 'Friendly'],\n",
    "    'Subject Line Type': ['Promotional', 'Informative', 'Personalized', 'Question-based'],\n",
    "    'Image Type': ['Professional', 'Lifestyle', 'Infographic', 'Icons'],\n",
    "    'Layout Complexity': ['Simple', 'Moderate', 'Complex', 'Complex'],\n",
    "    'Target Audience': ['High Salary', 'Low Salary', 'Mid Salary', 'Young Professionals'],\n",
    "    'Font Size': ['Small', 'Medium', 'Large', 'Medium'],\n",
    "    'Color Contrast': ['High', 'Medium', 'Low', 'High'],\n",
    "    'Testimonial Inclusion': ['None', 'Short', 'Detailed', 'User Reviews'],\n",
    "    'Data-Driven Content': ['None', 'Graphs', 'Projections', 'Comparisons'],\n",
    "    'Offer Type': ['Fixed Rate', 'Variable Rate', 'Bonus Rate', 'Tiered Rate'],\n",
    "    'Email Length': ['Short', 'Medium', 'Long', 'Short'],\n",
    "    'Personalization': ['None', 'Subject', 'Body and Subject', 'Offer'],\n",
    "    'Urgency Tone': ['None', 'Mild Urgency', 'Strong Urgency', 'Exclusive Offer'],\n",
    "    'Bullet Points': ['None', 'Few', 'Many', 'None']\n",
    "}"
   ]
  },
  {
   "cell_type": "code",
   "execution_count": 6,
   "metadata": {},
   "outputs": [],
   "source": [
    "email_df = pd.DataFrame(email_data)"
   ]
  },
  {
   "cell_type": "markdown",
   "metadata": {},
   "source": [
    "# Encoding the features"
   ]
  },
  {
   "cell_type": "code",
   "execution_count": 8,
   "metadata": {},
   "outputs": [
    {
     "name": "stdout",
     "output_type": "stream",
     "text": [
      "   Number of Images_0  Number of Images_1-2  Number of Images_3-5  \\\n",
      "0                   0                     0                     0   \n",
      "\n",
      "   Number of Images_6+  Text Length_Short  Text Length_Medium  \\\n",
      "0                    0                  0                   0   \n",
      "\n",
      "   Text Length_Long  Font Emphasis_None  Font Emphasis_Bold  \\\n",
      "0                 0                   0                   1   \n",
      "\n",
      "   Font Emphasis_Italic  ...  Personalization_Subject  \\\n",
      "0                     0  ...                        0   \n",
      "\n",
      "   Personalization_Body and Subject  Personalization_Offer  Urgency Tone_None  \\\n",
      "0                                 0                      0                  0   \n",
      "\n",
      "   Urgency Tone_Mild Urgency  Urgency Tone_Strong Urgency  \\\n",
      "0                          0                            0   \n",
      "\n",
      "   Urgency Tone_Exclusive Offer  Bullet Points_None  Bullet Points_Few  \\\n",
      "0                             0                   0                  0   \n",
      "\n",
      "   Bullet Points_Many  \n",
      "0                   0  \n",
      "\n",
      "[1 rows x 73 columns]\n"
     ]
    }
   ],
   "source": [
    "\n",
    "example_row = {\n",
    "    'Number of Images_0': 0, 'Number of Images_1-2': 0, 'Number of Images_3-5': 0, 'Number of Images_6+': 0,\n",
    "    'Text Length_Short': 0, 'Text Length_Medium': 0, 'Text Length_Long': 0, 'Text Length_Very_Long':0,\n",
    "    'Font Emphasis_None': 0, 'Font Emphasis_Bold': 1, 'Font Emphasis_Italic': 0, 'Font Emphasis_Both': 0,\n",
    "    'Wording Focus_High Returns': 0, 'Wording Focus_Stable Income': 0, 'Wording Focus_How Money is Used': 0, 'Wording Focus_Security': 0,\n",
    "    'CTA Position_Early': 0, 'CTA Position_Middle': 0, 'CTA Position_Late': 0,\n",
    "    'CTA Size_Small': 0, 'CTA Size_Medium': 0, 'CTA Size_Large': 0, 'CTA Size_Text Link': 0,\n",
    "    'Tone_Formal': 1, 'Tone_Conversational': 0, 'Tone_Urgent': 0, 'Tone_Friendly': 0,\n",
    "    'Subject Line Type_Promotional': 0, 'Subject Line Type_Informative': 0, 'Subject Line Type_Personalized': 0, 'Subject Line Type_Question-based': 0,\n",
    "    'Image Type_Professional': 1, 'Image Type_Lifestyle': 0, 'Image Type_Infographic': 0, 'Image Type_Icons': 0,\n",
    "    'Layout Complexity_Simple': 0, 'Layout Complexity_Moderate': 0, 'Layout Complexity_Complex': 0,\n",
    "    'Target Audience_High Salary': 0, 'Target Audience_Low Salary': 0, 'Target Audience_Mid Salary': 0, 'Target Audience_Young Professionals': 0,\n",
    "    'Font Size_Small': 0, 'Font Size_Medium': 0, 'Font Size_Large': 0,\n",
    "    'Color Contrast_High': 0, 'Color Contrast_Medium': 0, 'Color Contrast_Low': 0,\n",
    "    'Testimonial Inclusion_None': 0, 'Testimonial Inclusion_Short': 0, 'Testimonial Inclusion_Detailed': 0, 'Testimonial Inclusion_User Reviews': 0,\n",
    "    'Data-Driven Content_None': 0, 'Data-Driven Content_Graphs': 0, 'Data-Driven Content_Projections': 0, 'Data-Driven Content_Comparisons': 0,\n",
    "    'Offer Type_Fixed Rate': 0, 'Offer Type_Variable Rate': 0, 'Offer Type_Bonus Rate': 0, 'Offer Type_Tiered Rate': 0,\n",
    "    'Email Length_Short': 0, 'Email Length_Medium': 0, 'Email Length_Long': 0,\n",
    "    'Personalization_None': 0, 'Personalization_Subject': 0, 'Personalization_Body and Subject': 0, 'Personalization_Offer': 0,\n",
    "    'Urgency Tone_None': 0, 'Urgency Tone_Mild Urgency': 0, 'Urgency Tone_Strong Urgency': 0, 'Urgency Tone_Exclusive Offer': 0,\n",
    "    'Bullet Points_None': 0, 'Bullet Points_Few': 0, 'Bullet Points_Many': 0\n",
    "}\n",
    "\n",
    "example_df = pd.DataFrame([example_row])\n",
    "\n",
    "print(example_df)\n"
   ]
  },
  {
   "cell_type": "markdown",
   "metadata": {},
   "source": [
    "# Sample emails"
   ]
  },
  {
   "cell_type": "code",
   "execution_count": 21,
   "metadata": {},
   "outputs": [],
   "source": [
    "sample_email_a = {\n",
    "    'Number of Images_0': 0, 'Number of Images_1-2': 1, 'Number of Images_3-5': 0, 'Number of Images_6+': 0,\n",
    "    'Text Length_Short': 0, 'Text Length_Medium': 1, 'Text Length_Long': 0, 'Text Length_Very_Long':0,\n",
    "    'Font Emphasis_None': 0, 'Font Emphasis_Bold': 1, 'Font Emphasis_Italic': 0, 'Font Emphasis_Both': 0,\n",
    "    'Wording Focus_High Returns': 0, 'Wording Focus_Stable Income': 1, 'Wording Focus_How Money is Used': 0, 'Wording Focus_Security': 0,\n",
    "    'Tone_Formal': 1, 'Tone_Conversational': 0, 'Tone_Urgent': 0, 'Tone_Friendly': 0,\n",
    "    'Subject Line Type_Promotional': 0, 'Subject Line Type_Informative': 1, 'Subject Line Type_Personalized': 0, 'Subject Line Type_Question-based': 0,\n",
    "    'Image Type_Professional': 1, 'Image Type_Lifestyle': 0, 'Image Type_Infographic': 0, 'Image Type_Icons': 0,\n",
    "    'Layout Complexity_Simple': 0, 'Layout Complexity_Moderate': 1, 'Layout Complexity_Complex': 0,\n",
    "    'Target Audience_High Salary': 0, 'Target Audience_Low Salary': 0, 'Target Audience_Mid Salary': 1, 'Target Audience_Young Professionals': 0,\n",
    "    'Font Size_Small': 0, 'Font Size_Medium': 1, 'Font Size_Large': 0,\n",
    "    'Color Contrast_High': 0, 'Color Contrast_Medium': 0, 'Color Contrast_Low': 1,\n",
    "    'Testimonial Inclusion_None': 1, 'Testimonial Inclusion_Short': 0, 'Testimonial Inclusion_Detailed': 0, 'Testimonial Inclusion_User Reviews': 0,\n",
    "    'Data-Driven Content_None': 0, 'Data-Driven Content_Graphs': 0, 'Data-Driven Content_Projections': 1, 'Data-Driven Content_Comparisons': 0,\n",
    "    'Offer Type_Fixed Rate': 1, 'Offer Type_Variable Rate': 0, 'Offer Type_Bonus Rate': 0, 'Offer Type_Tiered Rate': 0,\n",
    "    'Email Length_Short': 0, 'Email Length_Medium': 1, 'Email Length_Long': 0,\n",
    "    'Personalization_None': 0, 'Personalization_Subject': 1, 'Personalization_Body and Subject': 0, 'Personalization_Offer': 0,\n",
    "    'Urgency Tone_None': 0, 'Urgency Tone_Mild Urgency': 1, 'Urgency Tone_Strong Urgency': 0, 'Urgency Tone_Exclusive Offer': 0,\n",
    "    'Bullet Points_None': 0, 'Bullet Points_Few': 1, 'Bullet Points_Many': 0\n",
    "}"
   ]
  },
  {
   "cell_type": "code",
   "execution_count": 16,
   "metadata": {},
   "outputs": [],
   "source": [
    "sample_email_b = {\n",
    "    'Number of Images_0': 0, 'Number of Images_1-2': 0, 'Number of Images_3-5': 1, 'Number of Images_6+': 0,\n",
    "    'Text Length_Short': 1, 'Text Length_Medium': 0, 'Text Length_Long': 0, 'Text Length_Very_Long':0,\n",
    "    'Font Emphasis_None': 0, 'Font Emphasis_Bold': 0, 'Font Emphasis_Italic': 0, 'Font Emphasis_Both': 1,\n",
    "    'Wording Focus_High Returns': 0, 'Wording Focus_Stable Income': 0, 'Wording Focus_How Money is Used': 0, 'Wording Focus_Security': 1,\n",
    "    'Tone_Formal': 0, 'Tone_Conversational': 1, 'Tone_Urgent': 0, 'Tone_Friendly': 0,\n",
    "    'Subject Line Type_Promotional': 0, 'Subject Line Type_Informative': 1, 'Subject Line Type_Personalized': 0, 'Subject Line Type_Question-based': 0,\n",
    "    'Image Type_Professional': 0, 'Image Type_Lifestyle': 0, 'Image Type_Infographic': 1, 'Image Type_Icons': 0,\n",
    "    'Layout Complexity_Simple': 1, 'Layout Complexity_Moderate': 0, 'Layout Complexity_Complex': 0,\n",
    "    'Target Audience_High Salary': 1, 'Target Audience_Low Salary': 0, 'Target Audience_Mid Salary': 0, 'Target Audience_Young Professionals': 0,\n",
    "    'Font Size_Small': 0, 'Font Size_Medium': 0, 'Font Size_Large': 1,\n",
    "    'Color Contrast_High': 0, 'Color Contrast_Medium': 1, 'Color Contrast_Low': 0,\n",
    "    'Testimonial Inclusion_None': 0, 'Testimonial Inclusion_Short': 0, 'Testimonial Inclusion_Detailed': 1, 'Testimonial Inclusion_User Reviews': 0,\n",
    "    'Data-Driven Content_None': 0, 'Data-Driven Content_Graphs': 1, 'Data-Driven Content_Projections': 0, 'Data-Driven Content_Comparisons': 0,\n",
    "    'Offer Type_Fixed Rate': 0, 'Offer Type_Variable Rate': 0, 'Offer Type_Bonus Rate': 1, 'Offer Type_Tiered Rate': 0,\n",
    "    'Email Length_Short': 0, 'Email Length_Medium': 0, 'Email Length_Long': 1,\n",
    "    'Personalization_None': 0, 'Personalization_Subject': 0, 'Personalization_Body and Subject': 1, 'Personalization_Offer': 0,\n",
    "    'Urgency Tone_None': 0, 'Urgency Tone_Mild Urgency': 0, 'Urgency Tone_Strong Urgency': 0, 'Urgency Tone_Exclusive Offer': 1,\n",
    "    'Bullet Points_None': 1, 'Bullet Points_Few': 0, 'Bullet Points_Many': 0\n",
    "}"
   ]
  },
  {
   "cell_type": "code",
   "execution_count": 4,
   "metadata": {},
   "outputs": [],
   "source": [
    "mutually_exclusive_groups = [\n",
    "    ['Number of Images_0', 'Number of Images_1-2', 'Number of Images_3-5', 'Number of Images_6+'],\n",
    "    ['Text Length_Short', 'Text Length_Medium', 'Text Length_Long', 'Text Length_Very_Long'],\n",
    "    ['Font Emphasis_None', 'Font Emphasis_Bold', 'Font Emphasis_Italic', 'Font Emphasis_Both'],\n",
    "    ['Wording Focus_High Returns', 'Wording Focus_Stable Income', 'Wording Focus_How Money is Used', 'Wording Focus_Security'],\n",
    "    ['Tone_Formal', 'Tone_Conversational', 'Tone_Urgent', 'Tone_Friendly'],\n",
    "    ['Subject Line Type_Promotional', 'Subject Line Type_Informative', 'Subject Line Type_Personalized', 'Subject Line Type_Question-based'],\n",
    "    ['Image Type_Professional', 'Image Type_Lifestyle', 'Image Type_Infographic', 'Image Type_Icons'],\n",
    "    ['Layout Complexity_Simple', 'Layout Complexity_Moderate', 'Layout Complexity_Complex'],\n",
    "    ['Target Audience_High Salary', 'Target Audience_Low Salary', 'Target Audience_Mid Salary', 'Target Audience_Young Professionals'],\n",
    "    ['Font Size_Small', 'Font Size_Medium', 'Font Size_Large'],\n",
    "    ['Color Contrast_High', 'Color Contrast_Medium', 'Color Contrast_Low'],\n",
    "    ['Testimonial Inclusion_None', 'Testimonial Inclusion_Short', 'Testimonial Inclusion_Detailed', 'Testimonial Inclusion_User Reviews'],\n",
    "    ['Data-Driven Content_None', 'Data-Driven Content_Graphs', 'Data-Driven Content_Projections', 'Data-Driven Content_Comparisons'],\n",
    "    ['Offer Type_Fixed Rate', 'Offer Type_Variable Rate', 'Offer Type_Bonus Rate', 'Offer Type_Tiered Rate'],\n",
    "    ['Email Length_Short', 'Email Length_Medium', 'Email Length_Long'],\n",
    "    ['Personalization_None', 'Personalization_Subject', 'Personalization_Body and Subject', 'Personalization_Offer'],\n",
    "    ['Urgency Tone_None', 'Urgency Tone_Mild Urgency', 'Urgency Tone_Strong Urgency', 'Urgency Tone_Exclusive Offer'],\n",
    "    ['Bullet Points_None', 'Bullet Points_Few', 'Bullet Points_Many']\n",
    "]"
   ]
  },
  {
   "cell_type": "markdown",
   "metadata": {},
   "source": [
    "# Updating the emails"
   ]
  },
  {
   "cell_type": "code",
   "execution_count": 22,
   "metadata": {},
   "outputs": [
    {
     "name": "stdout",
     "output_type": "stream",
     "text": [
      "Adjusted Email B: {'Number of Images_0': 1, 'Number of Images_1-2': 0, 'Number of Images_3-5': 0, 'Number of Images_6+': 0, 'Text Length_Short': 1, 'Text Length_Medium': 0, 'Text Length_Long': 0, 'Text Length_Very_Long': 0, 'Font Emphasis_None': 0, 'Font Emphasis_Bold': 0, 'Font Emphasis_Italic': 0, 'Font Emphasis_Both': 1, 'Wording Focus_High Returns': 0, 'Wording Focus_Stable Income': 1, 'Wording Focus_How Money is Used': 0, 'Wording Focus_Security': 0, 'Tone_Formal': 0, 'Tone_Conversational': 1, 'Tone_Urgent': 0, 'Tone_Friendly': 0, 'Subject Line Type_Promotional': 0, 'Subject Line Type_Informative': 1, 'Subject Line Type_Personalized': 0, 'Subject Line Type_Question-based': 0, 'Image Type_Professional': 0, 'Image Type_Lifestyle': 0, 'Image Type_Infographic': 1, 'Image Type_Icons': 0, 'Layout Complexity_Simple': 1, 'Layout Complexity_Moderate': 0, 'Layout Complexity_Complex': 0, 'Target Audience_High Salary': 1, 'Target Audience_Low Salary': 0, 'Target Audience_Mid Salary': 0, 'Target Audience_Young Professionals': 0, 'Font Size_Small': 0, 'Font Size_Medium': 0, 'Font Size_Large': 1, 'Color Contrast_High': 0, 'Color Contrast_Medium': 1, 'Color Contrast_Low': 0, 'Testimonial Inclusion_None': 1, 'Testimonial Inclusion_Short': 0, 'Testimonial Inclusion_Detailed': 0, 'Testimonial Inclusion_User Reviews': 0, 'Data-Driven Content_None': 1, 'Data-Driven Content_Graphs': 0, 'Data-Driven Content_Projections': 0, 'Data-Driven Content_Comparisons': 0, 'Offer Type_Fixed Rate': 1, 'Offer Type_Variable Rate': 0, 'Offer Type_Bonus Rate': 0, 'Offer Type_Tiered Rate': 0, 'Email Length_Short': 0, 'Email Length_Medium': 0, 'Email Length_Long': 1, 'Personalization_None': 0, 'Personalization_Subject': 1, 'Personalization_Body and Subject': 0, 'Personalization_Offer': 0, 'Urgency Tone_None': 0, 'Urgency Tone_Mild Urgency': 1, 'Urgency Tone_Strong Urgency': 0, 'Urgency Tone_Exclusive Offer': 0, 'Bullet Points_None': 1, 'Bullet Points_Few': 0, 'Bullet Points_Many': 0}\n"
     ]
    }
   ],
   "source": [
    "success_rate_A = 0.7  # For sample_email_a\n",
    "success_rate_B = 0.5  # For sample_email_b\n",
    "\n",
    "lr = 0.5\n",
    "\n",
    "def adjust_email_features(email_low, email_high, success_low, success_high, lr):\n",
    "    new_email = email_low.copy()\n",
    "    if success_low < success_high:\n",
    "        for group in mutually_exclusive_groups:\n",
    "            for feature in group:\n",
    "                if new_email[feature] != email_high[feature]:\n",
    "                    # Adjust the feature closer to the high-performing email\n",
    "                    new_email[feature] += lr * (email_high[feature] - new_email[feature])\n",
    "\n",
    "                    # Add small random noise to avoid making them exactly the same\n",
    "                    new_email[feature] += random.uniform(-0.05, 0.05)\n",
    "\n",
    "                    # Ensure binary values stay between 0 and 1\n",
    "                    new_email[feature] = max(0, min(1, round(new_email[feature])))\n",
    "\n",
    "            # Ensure only one feature in the group is set to 1\n",
    "            # Find the feature with the maximum value in the group and set the rest to 0\n",
    "            max_feature = max(group, key=lambda f: new_email[f])\n",
    "            for feature in group:\n",
    "                new_email[feature] = 1 if feature == max_feature else 0\n",
    "                \n",
    "    return new_email\n",
    "\n",
    "adjusted_email_b = adjust_email_features(sample_email_b, sample_email_a, success_rate_B, success_rate_A, lr)\n",
    "\n",
    "print(\"Adjusted Email B:\", adjusted_email_b)"
   ]
  },
  {
   "cell_type": "markdown",
   "metadata": {},
   "source": [
    "# Check differences (Show that A & B are not same)"
   ]
  },
  {
   "cell_type": "code",
   "execution_count": 25,
   "metadata": {},
   "outputs": [
    {
     "name": "stdout",
     "output_type": "stream",
     "text": [
      "Differences between Email A and Adjusted Email B:\n",
      "\n",
      "Number of Images_0: Email A -> 0, Adjusted Email B -> 1\n",
      "Number of Images_1-2: Email A -> 1, Adjusted Email B -> 0\n",
      "Text Length_Short: Email A -> 0, Adjusted Email B -> 1\n",
      "Text Length_Medium: Email A -> 1, Adjusted Email B -> 0\n",
      "Font Emphasis_Bold: Email A -> 1, Adjusted Email B -> 0\n",
      "Font Emphasis_Both: Email A -> 0, Adjusted Email B -> 1\n",
      "Tone_Formal: Email A -> 1, Adjusted Email B -> 0\n",
      "Tone_Conversational: Email A -> 0, Adjusted Email B -> 1\n",
      "Image Type_Professional: Email A -> 1, Adjusted Email B -> 0\n",
      "Image Type_Infographic: Email A -> 0, Adjusted Email B -> 1\n",
      "Layout Complexity_Simple: Email A -> 0, Adjusted Email B -> 1\n",
      "Layout Complexity_Moderate: Email A -> 1, Adjusted Email B -> 0\n",
      "Target Audience_High Salary: Email A -> 0, Adjusted Email B -> 1\n",
      "Target Audience_Mid Salary: Email A -> 1, Adjusted Email B -> 0\n",
      "Font Size_Medium: Email A -> 1, Adjusted Email B -> 0\n",
      "Font Size_Large: Email A -> 0, Adjusted Email B -> 1\n",
      "Color Contrast_Medium: Email A -> 0, Adjusted Email B -> 1\n",
      "Color Contrast_Low: Email A -> 1, Adjusted Email B -> 0\n",
      "Data-Driven Content_None: Email A -> 0, Adjusted Email B -> 1\n",
      "Data-Driven Content_Projections: Email A -> 1, Adjusted Email B -> 0\n",
      "Email Length_Medium: Email A -> 1, Adjusted Email B -> 0\n",
      "Email Length_Long: Email A -> 0, Adjusted Email B -> 1\n",
      "Bullet Points_None: Email A -> 0, Adjusted Email B -> 1\n",
      "Bullet Points_Few: Email A -> 1, Adjusted Email B -> 0\n"
     ]
    }
   ],
   "source": [
    "def compare_emails(email_a, email_b):\n",
    "    differences = {}\n",
    "    similarities = {}\n",
    "    for feature in email_a:\n",
    "        if email_a[feature] != email_b[feature]:\n",
    "            differences[feature] = (email_a[feature], email_b[feature])\n",
    "        if email_a[feature] == email_b[feature] and email_a[feature] == 1:\n",
    "            similarities[feature] = (email_a[feature], email_b[feature])\n",
    "    return differences,similarities\n",
    "\n",
    "\n",
    "differences,similarities = compare_emails(sample_email_a, adjusted_email_b)\n",
    "\n",
    "print(\"Differences between Email A and Adjusted Email B:\")\n",
    "print(\"\")\n",
    "for feature, values in differences.items():\n",
    "    print(f\"{feature}: Email A -> {values[0]}, Adjusted Email B -> {values[1]}\")"
   ]
  },
  {
   "cell_type": "code",
   "execution_count": 26,
   "metadata": {},
   "outputs": [
    {
     "name": "stdout",
     "output_type": "stream",
     "text": [
      "Similarities between Email A and Adjusted Email B:\n",
      "\n",
      "Wording Focus_Stable Income: Email A -> 1, Adjusted Email B -> 1\n",
      "Subject Line Type_Informative: Email A -> 1, Adjusted Email B -> 1\n",
      "Testimonial Inclusion_None: Email A -> 1, Adjusted Email B -> 1\n",
      "Offer Type_Fixed Rate: Email A -> 1, Adjusted Email B -> 1\n",
      "Personalization_Subject: Email A -> 1, Adjusted Email B -> 1\n",
      "Urgency Tone_Mild Urgency: Email A -> 1, Adjusted Email B -> 1\n"
     ]
    }
   ],
   "source": [
    "print(\"Similarities between Email A and Adjusted Email B:\")\n",
    "print(\"\")\n",
    "for feature, values in similarities.items():\n",
    "    print(f\"{feature}: Email A -> {values[0]}, Adjusted Email B -> {values[1]}\")"
   ]
  },
  {
   "cell_type": "markdown",
   "metadata": {},
   "source": [
    "# Compare email B and updated email B"
   ]
  },
  {
   "cell_type": "code",
   "execution_count": 27,
   "metadata": {},
   "outputs": [],
   "source": [
    "differences_B, similarities_B = compare_emails(sample_email_b,adjusted_email_b)"
   ]
  },
  {
   "cell_type": "code",
   "execution_count": 28,
   "metadata": {},
   "outputs": [
    {
     "name": "stdout",
     "output_type": "stream",
     "text": [
      "Differences between Email A and Adjusted Email B:\n",
      "\n",
      "Number of Images_0: Email A -> 0, Adjusted Email B -> 1\n",
      "Number of Images_3-5: Email A -> 1, Adjusted Email B -> 0\n",
      "Wording Focus_Stable Income: Email A -> 0, Adjusted Email B -> 1\n",
      "Wording Focus_Security: Email A -> 1, Adjusted Email B -> 0\n",
      "Testimonial Inclusion_None: Email A -> 0, Adjusted Email B -> 1\n",
      "Testimonial Inclusion_Detailed: Email A -> 1, Adjusted Email B -> 0\n",
      "Data-Driven Content_None: Email A -> 0, Adjusted Email B -> 1\n",
      "Data-Driven Content_Graphs: Email A -> 1, Adjusted Email B -> 0\n",
      "Offer Type_Fixed Rate: Email A -> 0, Adjusted Email B -> 1\n",
      "Offer Type_Bonus Rate: Email A -> 1, Adjusted Email B -> 0\n",
      "Personalization_Subject: Email A -> 0, Adjusted Email B -> 1\n",
      "Personalization_Body and Subject: Email A -> 1, Adjusted Email B -> 0\n",
      "Urgency Tone_Mild Urgency: Email A -> 0, Adjusted Email B -> 1\n",
      "Urgency Tone_Exclusive Offer: Email A -> 1, Adjusted Email B -> 0\n"
     ]
    }
   ],
   "source": [
    "print(\"Differences between Email A and Adjusted Email B:\")\n",
    "print(\"\")\n",
    "for feature, values in differences_B.items():\n",
    "    print(f\"{feature}: Email A -> {values[0]}, Adjusted Email B -> {values[1]}\")"
   ]
  },
  {
   "cell_type": "code",
   "execution_count": 29,
   "metadata": {},
   "outputs": [
    {
     "name": "stdout",
     "output_type": "stream",
     "text": [
      "Similarities between Email A and Adjusted Email B:\n",
      "\n",
      "Text Length_Short: Email A -> 1, Adjusted Email B -> 1\n",
      "Font Emphasis_Both: Email A -> 1, Adjusted Email B -> 1\n",
      "Tone_Conversational: Email A -> 1, Adjusted Email B -> 1\n",
      "Subject Line Type_Informative: Email A -> 1, Adjusted Email B -> 1\n",
      "Image Type_Infographic: Email A -> 1, Adjusted Email B -> 1\n",
      "Layout Complexity_Simple: Email A -> 1, Adjusted Email B -> 1\n",
      "Target Audience_High Salary: Email A -> 1, Adjusted Email B -> 1\n",
      "Font Size_Large: Email A -> 1, Adjusted Email B -> 1\n",
      "Color Contrast_Medium: Email A -> 1, Adjusted Email B -> 1\n",
      "Email Length_Long: Email A -> 1, Adjusted Email B -> 1\n",
      "Bullet Points_None: Email A -> 1, Adjusted Email B -> 1\n"
     ]
    }
   ],
   "source": [
    "print(\"Similarities between Email A and Adjusted Email B:\")\n",
    "print(\"\")\n",
    "for feature, values in similarities_B.items():\n",
    "    print(f\"{feature}: Email A -> {values[0]}, Adjusted Email B -> {values[1]}\")"
   ]
  }
 ],
 "metadata": {
  "kernelspec": {
   "display_name": ".venv",
   "language": "python",
   "name": "python3"
  },
  "language_info": {
   "codemirror_mode": {
    "name": "ipython",
    "version": 3
   },
   "file_extension": ".py",
   "mimetype": "text/x-python",
   "name": "python",
   "nbconvert_exporter": "python",
   "pygments_lexer": "ipython3",
   "version": "3.11.9"
  }
 },
 "nbformat": 4,
 "nbformat_minor": 2
}
